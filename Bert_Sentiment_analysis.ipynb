{
  "nbformat": 4,
  "nbformat_minor": 0,
  "metadata": {
    "accelerator": "GPU",
    "colab": {
      "name": "Bert_Sentiment_analysis",
      "provenance": [],
      "collapsed_sections": [],
      "include_colab_link": true
    },
    "kernelspec": {
      "display_name": "Python 3",
      "name": "python3"
    }
  },
  "cells": [
    {
      "cell_type": "markdown",
      "metadata": {
        "id": "view-in-github",
        "colab_type": "text"
      },
      "source": [
        "<a href=\"https://colab.research.google.com/github/spctr01/Bert-Sentiment-analysis/blob/main/Bert_Sentiment_analysis.ipynb\" target=\"_parent\"><img src=\"https://colab.research.google.com/assets/colab-badge.svg\" alt=\"Open In Colab\"/></a>"
      ]
    },
    {
      "cell_type": "code",
      "metadata": {
        "id": "rPan7umE-6ab"
      },
      "source": [
        "!pip install -qq transformers"
      ],
      "execution_count": 53,
      "outputs": []
    },
    {
      "cell_type": "code",
      "metadata": {
        "id": "7VefHg8b_SQf"
      },
      "source": [
        "import transformers\n",
        "from transformers import BertModel, BertTokenizer, AdamW, get_linear_schedule_with_warmup\n",
        "\n",
        "import torch\n",
        "from torch import nn, optim\n",
        "from torch.utils.data import Dataset, DataLoader\n",
        "\n",
        "import pandas as pd\n",
        "import numpy as np\n",
        "import seaborn as sns\n",
        "from pylab import rcParams\n",
        "import matplotlib.pyplot as plt\n",
        "from collections import defaultdict\n",
        "from textwrap import wrap\n",
        "import warnings\n",
        "\n",
        "from sklearn.model_selection import train_test_split\n",
        "from sklearn.metrics import confusion_matrix, classification_report\n",
        "\n",
        "%matplotlib inline\n",
        "warnings.filterwarnings('ignore')\n",
        "\n",
        "seed = 42\n",
        "np.random.seed(seed)\n",
        "torch.manual_seed(seed)\n",
        "\n",
        "device = torch.device(\"cuda:0\" if torch.cuda.is_available() else \"cpu\")"
      ],
      "execution_count": 54,
      "outputs": []
    },
    {
      "cell_type": "code",
      "metadata": {
        "id": "jF3kcTucBxUR",
        "outputId": "afb35556-1b2a-453d-d954-39b95fbb74f8",
        "colab": {
          "base_uri": "https://localhost:8080/",
          "height": 172
        }
      },
      "source": [
        "#downloading GOOGLE PLAY APP reviews dataset\n",
        "!gdown --id 1S6qMioqPJjyBLpLVz4gmRTnJHnjitnuV\n",
        "!gdown --id 1zdmewp7ayS4js4VtrJEHzAheSW-5NBZv"
      ],
      "execution_count": 55,
      "outputs": [
        {
          "output_type": "stream",
          "text": [
            "Downloading...\n",
            "From: https://drive.google.com/uc?id=1S6qMioqPJjyBLpLVz4gmRTnJHnjitnuV\n",
            "To: /content/apps.csv\n",
            "100% 134k/134k [00:00<00:00, 65.1MB/s]\n",
            "Downloading...\n",
            "From: https://drive.google.com/uc?id=1zdmewp7ayS4js4VtrJEHzAheSW-5NBZv\n",
            "To: /content/reviews.csv\n",
            "7.17MB [00:00, 113MB/s]\n"
          ],
          "name": "stdout"
        }
      ]
    },
    {
      "cell_type": "code",
      "metadata": {
        "id": "JpwYK8QeDpgK",
        "outputId": "72dd9282-ee51-4df4-90a7-60dd615b8a66",
        "colab": {
          "base_uri": "https://localhost:8080/",
          "height": 293
        }
      },
      "source": [
        "df = pd.read_csv('reviews.csv')\n",
        "df.head()"
      ],
      "execution_count": 56,
      "outputs": [
        {
          "output_type": "execute_result",
          "data": {
            "text/html": [
              "<div>\n",
              "<style scoped>\n",
              "    .dataframe tbody tr th:only-of-type {\n",
              "        vertical-align: middle;\n",
              "    }\n",
              "\n",
              "    .dataframe tbody tr th {\n",
              "        vertical-align: top;\n",
              "    }\n",
              "\n",
              "    .dataframe thead th {\n",
              "        text-align: right;\n",
              "    }\n",
              "</style>\n",
              "<table border=\"1\" class=\"dataframe\">\n",
              "  <thead>\n",
              "    <tr style=\"text-align: right;\">\n",
              "      <th></th>\n",
              "      <th>userName</th>\n",
              "      <th>userImage</th>\n",
              "      <th>content</th>\n",
              "      <th>score</th>\n",
              "      <th>thumbsUpCount</th>\n",
              "      <th>reviewCreatedVersion</th>\n",
              "      <th>at</th>\n",
              "      <th>replyContent</th>\n",
              "      <th>repliedAt</th>\n",
              "      <th>sortOrder</th>\n",
              "      <th>appId</th>\n",
              "    </tr>\n",
              "  </thead>\n",
              "  <tbody>\n",
              "    <tr>\n",
              "      <th>0</th>\n",
              "      <td>Andrew Thomas</td>\n",
              "      <td>https://lh3.googleusercontent.com/a-/AOh14GiHd...</td>\n",
              "      <td>Update: After getting a response from the deve...</td>\n",
              "      <td>1</td>\n",
              "      <td>21</td>\n",
              "      <td>4.17.0.3</td>\n",
              "      <td>2020-04-05 22:25:57</td>\n",
              "      <td>According to our TOS, and the term you have ag...</td>\n",
              "      <td>2020-04-05 15:10:24</td>\n",
              "      <td>most_relevant</td>\n",
              "      <td>com.anydo</td>\n",
              "    </tr>\n",
              "    <tr>\n",
              "      <th>1</th>\n",
              "      <td>Craig Haines</td>\n",
              "      <td>https://lh3.googleusercontent.com/-hoe0kwSJgPQ...</td>\n",
              "      <td>Used it for a fair amount of time without any ...</td>\n",
              "      <td>1</td>\n",
              "      <td>11</td>\n",
              "      <td>4.17.0.3</td>\n",
              "      <td>2020-04-04 13:40:01</td>\n",
              "      <td>It sounds like you logged in with a different ...</td>\n",
              "      <td>2020-04-05 15:11:35</td>\n",
              "      <td>most_relevant</td>\n",
              "      <td>com.anydo</td>\n",
              "    </tr>\n",
              "    <tr>\n",
              "      <th>2</th>\n",
              "      <td>steven adkins</td>\n",
              "      <td>https://lh3.googleusercontent.com/a-/AOh14GiXw...</td>\n",
              "      <td>Your app sucks now!!!!! Used to be good but no...</td>\n",
              "      <td>1</td>\n",
              "      <td>17</td>\n",
              "      <td>4.17.0.3</td>\n",
              "      <td>2020-04-01 16:18:13</td>\n",
              "      <td>This sounds odd! We are not aware of any issue...</td>\n",
              "      <td>2020-04-02 16:05:56</td>\n",
              "      <td>most_relevant</td>\n",
              "      <td>com.anydo</td>\n",
              "    </tr>\n",
              "    <tr>\n",
              "      <th>3</th>\n",
              "      <td>Lars Panzerbjørn</td>\n",
              "      <td>https://lh3.googleusercontent.com/a-/AOh14Gg-h...</td>\n",
              "      <td>It seems OK, but very basic. Recurring tasks n...</td>\n",
              "      <td>1</td>\n",
              "      <td>192</td>\n",
              "      <td>4.17.0.2</td>\n",
              "      <td>2020-03-12 08:17:34</td>\n",
              "      <td>We do offer this option as part of the Advance...</td>\n",
              "      <td>2020-03-15 06:20:13</td>\n",
              "      <td>most_relevant</td>\n",
              "      <td>com.anydo</td>\n",
              "    </tr>\n",
              "    <tr>\n",
              "      <th>4</th>\n",
              "      <td>Scott Prewitt</td>\n",
              "      <td>https://lh3.googleusercontent.com/-K-X1-YsVd6U...</td>\n",
              "      <td>Absolutely worthless. This app runs a prohibit...</td>\n",
              "      <td>1</td>\n",
              "      <td>42</td>\n",
              "      <td>4.17.0.2</td>\n",
              "      <td>2020-03-14 17:41:01</td>\n",
              "      <td>We're sorry you feel this way! 90% of the app ...</td>\n",
              "      <td>2020-03-15 23:45:51</td>\n",
              "      <td>most_relevant</td>\n",
              "      <td>com.anydo</td>\n",
              "    </tr>\n",
              "  </tbody>\n",
              "</table>\n",
              "</div>"
            ],
            "text/plain": [
              "           userName  ...      appId\n",
              "0     Andrew Thomas  ...  com.anydo\n",
              "1      Craig Haines  ...  com.anydo\n",
              "2     steven adkins  ...  com.anydo\n",
              "3  Lars Panzerbjørn  ...  com.anydo\n",
              "4     Scott Prewitt  ...  com.anydo\n",
              "\n",
              "[5 rows x 11 columns]"
            ]
          },
          "metadata": {
            "tags": []
          },
          "execution_count": 56
        }
      ]
    },
    {
      "cell_type": "code",
      "metadata": {
        "id": "5Wcl_7LLDyNe",
        "outputId": "1652a50c-5135-4887-8b53-c8e78cd0e0b1",
        "colab": {
          "base_uri": "https://localhost:8080/",
          "height": 269
        }
      },
      "source": [
        "print(df.shape)\n",
        "df.isnull().sum()"
      ],
      "execution_count": 57,
      "outputs": [
        {
          "output_type": "stream",
          "text": [
            "(15746, 11)\n"
          ],
          "name": "stdout"
        },
        {
          "output_type": "execute_result",
          "data": {
            "text/plain": [
              "userName                   0\n",
              "userImage                  0\n",
              "content                    0\n",
              "score                      0\n",
              "thumbsUpCount              0\n",
              "reviewCreatedVersion    2213\n",
              "at                         0\n",
              "replyContent            8379\n",
              "repliedAt               8379\n",
              "sortOrder                  0\n",
              "appId                      0\n",
              "dtype: int64"
            ]
          },
          "metadata": {
            "tags": []
          },
          "execution_count": 57
        }
      ]
    },
    {
      "cell_type": "code",
      "metadata": {
        "id": "NGoiq4FAGUqQ",
        "outputId": "eabff949-fd61-4a3e-9ed4-f104ecfa138a",
        "colab": {
          "base_uri": "https://localhost:8080/",
          "height": 206
        }
      },
      "source": [
        "#removing extra columns\n",
        "new_df = df[['content','score']]\n",
        "new_df.head()"
      ],
      "execution_count": 58,
      "outputs": [
        {
          "output_type": "execute_result",
          "data": {
            "text/html": [
              "<div>\n",
              "<style scoped>\n",
              "    .dataframe tbody tr th:only-of-type {\n",
              "        vertical-align: middle;\n",
              "    }\n",
              "\n",
              "    .dataframe tbody tr th {\n",
              "        vertical-align: top;\n",
              "    }\n",
              "\n",
              "    .dataframe thead th {\n",
              "        text-align: right;\n",
              "    }\n",
              "</style>\n",
              "<table border=\"1\" class=\"dataframe\">\n",
              "  <thead>\n",
              "    <tr style=\"text-align: right;\">\n",
              "      <th></th>\n",
              "      <th>content</th>\n",
              "      <th>score</th>\n",
              "    </tr>\n",
              "  </thead>\n",
              "  <tbody>\n",
              "    <tr>\n",
              "      <th>0</th>\n",
              "      <td>Update: After getting a response from the deve...</td>\n",
              "      <td>1</td>\n",
              "    </tr>\n",
              "    <tr>\n",
              "      <th>1</th>\n",
              "      <td>Used it for a fair amount of time without any ...</td>\n",
              "      <td>1</td>\n",
              "    </tr>\n",
              "    <tr>\n",
              "      <th>2</th>\n",
              "      <td>Your app sucks now!!!!! Used to be good but no...</td>\n",
              "      <td>1</td>\n",
              "    </tr>\n",
              "    <tr>\n",
              "      <th>3</th>\n",
              "      <td>It seems OK, but very basic. Recurring tasks n...</td>\n",
              "      <td>1</td>\n",
              "    </tr>\n",
              "    <tr>\n",
              "      <th>4</th>\n",
              "      <td>Absolutely worthless. This app runs a prohibit...</td>\n",
              "      <td>1</td>\n",
              "    </tr>\n",
              "  </tbody>\n",
              "</table>\n",
              "</div>"
            ],
            "text/plain": [
              "                                             content  score\n",
              "0  Update: After getting a response from the deve...      1\n",
              "1  Used it for a fair amount of time without any ...      1\n",
              "2  Your app sucks now!!!!! Used to be good but no...      1\n",
              "3  It seems OK, but very basic. Recurring tasks n...      1\n",
              "4  Absolutely worthless. This app runs a prohibit...      1"
            ]
          },
          "metadata": {
            "tags": []
          },
          "execution_count": 58
        }
      ]
    },
    {
      "cell_type": "code",
      "metadata": {
        "id": "P94LtOFfDy2E",
        "outputId": "7a562e38-1afa-44ee-f7d8-fc5b5625e140",
        "colab": {
          "base_uri": "https://localhost:8080/",
          "height": 279
        }
      },
      "source": [
        "sns.countplot(new_df.score)\n",
        "plt.show()"
      ],
      "execution_count": 59,
      "outputs": [
        {
          "output_type": "display_data",
          "data": {
            "image/png": "[encoded data removed]",
            "text/plain": [
              "<Figure size 432x288 with 1 Axes>"
            ]
          },
          "metadata": {
            "tags": [],
            "needs_background": "light"
          }
        }
      ]
    },
    {
      "cell_type": "code",
      "metadata": {
        "id": "T-HWxbQLFXRN",
        "outputId": "45afc1e5-1064-450c-84d6-937dc75b5f7f",
        "colab": {
          "base_uri": "https://localhost:8080/",
          "height": 298
        }
      },
      "source": [
        "# there are five labels so convert it to only 3 labels  posetive,negative,neutral\n",
        "\n",
        "def to_sentiment(ratings):\n",
        "  \n",
        "  rating = int(ratings)\n",
        "  if rating <= 2:\n",
        "    return 0\n",
        "  elif rating == 3:\n",
        "    return 1\n",
        "  else:\n",
        "    return 2\n",
        "\n",
        "new_df['sentiment'] = new_df.score.apply(to_sentiment)\n",
        "\n",
        "sns.countplot(new_df.sentiment)"
      ],
      "execution_count": 60,
      "outputs": [
        {
          "output_type": "execute_result",
          "data": {
            "text/plain": [
              "<matplotlib.axes._subplots.AxesSubplot at 0x7f62fa323748>"
            ]
          },
          "metadata": {
            "tags": []
          },
          "execution_count": 60
        },
        {
          "output_type": "display_data",
          "data": {
            "image/png": "[encoded data removed]",
            "text/plain": [
              "<Figure size 432x288 with 1 Axes>"
            ]
          },
          "metadata": {
            "tags": [],
            "needs_background": "light"
          }
        }
      ]
    },
    {
      "cell_type": "markdown",
      "metadata": {
        "id": "hpEkeLVTow-C"
      },
      "source": [
        "# Preprocessing\n"
      ]
    },
    {
      "cell_type": "code",
      "metadata": {
        "id": "wsVX8hCfovW4",
        "outputId": "97323810-57bb-4445-bcbd-12d0d0f21f01",
        "colab": {
          "base_uri": "https://localhost:8080/",
          "height": 56
        }
      },
      "source": [
        "model_name = 'bert-base-cased'\n",
        "tokenizer = BertTokenizer.from_pretrained(model_name)\n",
        "token_lens = []\n",
        "\n",
        "for txt in new_df.content:\n",
        "\n",
        "  tokens = tokenizer.encode(txt, max_length=512)\n",
        "\n",
        "  token_lens.append(len(tokens))"
      ],
      "execution_count": 61,
      "outputs": [
        {
          "output_type": "stream",
          "text": [
            "Truncation was not explicitely activated but `max_length` is provided a specific value, please use `truncation=True` to explicitely truncate examples to max length. Defaulting to 'longest_first' truncation strategy. If you encode pairs of sequences (GLUE-style) with the tokenizer you can select this strategy more precisely by providing a specific strategy to `truncation`.\n"
          ],
          "name": "stderr"
        }
      ]
    },
    {
      "cell_type": "code",
      "metadata": {
        "id": "5-m1JwtApdKb",
        "outputId": "9ca3101c-9b75-40c4-c2fd-895e8062fa28",
        "colab": {
          "base_uri": "https://localhost:8080/",
          "height": 284
        }
      },
      "source": [
        "sns.distplot(token_lens)"
      ],
      "execution_count": 62,
      "outputs": [
        {
          "output_type": "execute_result",
          "data": {
            "text/plain": [
              "<matplotlib.axes._subplots.AxesSubplot at 0x7f639fa41128>"
            ]
          },
          "metadata": {
            "tags": []
          },
          "execution_count": 62
        },
        {
          "output_type": "display_data",
          "data": {
            "image/png": "[encoded data removed]",
            "text/plain": [
              "<Figure size 432x288 with 1 Axes>"
            ]
          },
          "metadata": {
            "tags": [],
            "needs_background": "light"
          }
        }
      ]
    },
    {
      "cell_type": "code",
      "metadata": {
        "id": "tiUSA32gpdTj"
      },
      "source": [
        "max_len = 160\n"
      ],
      "execution_count": 63,
      "outputs": []
    },
    {
      "cell_type": "code",
      "metadata": {
        "id": "GEIibKyopdQy"
      },
      "source": [
        "class bert_dataset(Dataset):\n",
        "\n",
        "  def __init__(self, reviews, targets, tokenizer, max_len):\n",
        "    self.reviews = reviews\n",
        "    self.targets = targets\n",
        "    self.tokenizer = tokenizer\n",
        "    self.max_len = max_len\n",
        "\n",
        "  def __len__(self):\n",
        "    return len(self.reviews)\n",
        "\n",
        "  def __getitem__(self, item):\n",
        "    review = str(self.reviews[item])\n",
        "    target = self.targets[item]\n",
        "    encoding = self.tokenizer.encode_plus(\n",
        "                                   review,\n",
        "                                   add_special_tokens=True,\n",
        "                                   max_length=self.max_len,\n",
        "                                   return_token_type_ids=False,\n",
        "                                   pad_to_max_length=True,\n",
        "                                   return_attention_mask=True,\n",
        "                                   return_tensors='pt', )\n",
        "\n",
        "    return {\n",
        "      'review_text': review,\n",
        "      'input_ids': encoding['input_ids'].flatten(),\n",
        "      'attention_mask': encoding['attention_mask'].flatten(),\n",
        "      'targets': torch.tensor(target, dtype=torch.long)\n",
        "    }"
      ],
      "execution_count": 64,
      "outputs": []
    },
    {
      "cell_type": "code",
      "metadata": {
        "id": "E2cDPJHepdOm",
        "outputId": "f301fdbd-7ea6-4ccc-e5e7-a944dab3b912",
        "colab": {
          "base_uri": "https://localhost:8080/",
          "height": 36
        }
      },
      "source": [
        "df_train, df_test = train_test_split(new_df, test_size= 0.1, random_state= seed)\n",
        "df_val, df_test = train_test_split(df_test, test_size= 0.5, random_state= seed)\n",
        "\n",
        "df_train.size, df_val.size, df_test.size"
      ],
      "execution_count": 65,
      "outputs": [
        {
          "output_type": "execute_result",
          "data": {
            "text/plain": [
              "(42513, 2361, 2364)"
            ]
          },
          "metadata": {
            "tags": []
          },
          "execution_count": 65
        }
      ]
    },
    {
      "cell_type": "markdown",
      "metadata": {
        "id": "OdymFKyQrD10"
      },
      "source": [
        "# custom data_loader"
      ]
    },
    {
      "cell_type": "code",
      "metadata": {
        "id": "o4TorCmbpdHL"
      },
      "source": [
        "def data_loader(df,tokenizer, max_len, batch_size):\n",
        "  ds = bert_dataset(\n",
        "      reviews= df.content.to_numpy(),\n",
        "      targets= df.sentiment.to_numpy(),\n",
        "      tokenizer = tokenizer,\n",
        "      max_len = max_len)\n",
        "  \n",
        "  return DataLoader(ds, batch_size= batch_size, num_workers= 4)\n",
        "\n",
        "Batch_size = 16  #in bert paper\n",
        "\n",
        "train_data_loader = data_loader(df_train, tokenizer, max_len, Batch_size )\n",
        "val_data_loader = data_loader(df_val, tokenizer, max_len, Batch_size )\n",
        "test_data_loader = data_loader(df_test, tokenizer, max_len, Batch_size )\n",
        "\n",
        "\n"
      ],
      "execution_count": 66,
      "outputs": []
    },
    {
      "cell_type": "code",
      "metadata": {
        "id": "bGoU1KdorAEN"
      },
      "source": [
        "class SentimentClassifier(nn.Module):\n",
        "\n",
        "  def __init__(self, n_classes):\n",
        "    super(SentimentClassifier, self).__init__()\n",
        "    self.bert = BertModel.from_pretrained(model_name)  #load bert model\n",
        "    self.drop = nn.Dropout(p=0.3)\n",
        "    self.out = nn.Linear(self.bert.config.hidden_size, n_classes)\n",
        "\n",
        "  def forward(self, input_ids, attention_mask):\n",
        "    _, pooled_output = self.bert(input_ids= input_ids, attention_mask= attention_mask)\n",
        "    output = self.drop(pooled_output)\n",
        "\n",
        "    return self.out(output)"
      ],
      "execution_count": 67,
      "outputs": []
    },
    {
      "cell_type": "code",
      "metadata": {
        "id": "_SI10U6YtGNR"
      },
      "source": [
        "class_names = ['negative', 'neutral', 'positive']\n",
        "model = SentimentClassifier(len(class_names))\n",
        "model = model.to(device)"
      ],
      "execution_count": 68,
      "outputs": []
    },
    {
      "cell_type": "markdown",
      "metadata": {
        "id": "_-UNYDysxBT7"
      },
      "source": [
        "# Training"
      ]
    },
    {
      "cell_type": "code",
      "metadata": {
        "id": "LnXAaqaBrAO7"
      },
      "source": [
        "Epochs = 10\n",
        "\n",
        "optimizer = AdamW(model.parameters(), lr=2e-5, correct_bias= False)  #lr= 2e-5 in bert paper\n",
        "total_steps = len(train_data_loader) * Epochs\n",
        "\n",
        "scheduler = get_linear_schedule_with_warmup(optimizer, num_warmup_steps=0,num_training_steps=total_steps)\n",
        "\n",
        "critersion = nn.CrossEntropyLoss().to(device)"
      ],
      "execution_count": 69,
      "outputs": []
    },
    {
      "cell_type": "code",
      "metadata": {
        "id": "aK5ez0fyrAZ3"
      },
      "source": [
        "def train_epoch(model, data_loader, critersion, optimizer, device, scheduler, n_examples):\n",
        "  \n",
        "  model = model.train()\n",
        "\n",
        "  losses = []\n",
        "  correct_pred = 0\n",
        "\n",
        "  for d in data_loader:\n",
        "    input_ids = d['input_ids'].to(device)\n",
        "    attention_mask = d['attention_mask'].to(device)\n",
        "    targets = d['targets'].to(device)\n",
        "\n",
        "    outputs = model(input_ids= input_ids, attention_mask= attention_mask)\n",
        "\n",
        "    _, preds = torch.max(outputs, dim=1) #returns max value in tensor\n",
        "    loss = critersion(outputs, targets)\n",
        "\n",
        "    correct_pred += torch.sum(preds == targets) # if predict == target returns 1 else 0\n",
        "    losses.append(loss.item())\n",
        "\n",
        "    loss.backward()\n",
        "    nn.utils.clip_grad_norm_(model.parameters(), max_norm=1.0)\n",
        "    optimizer.step()\n",
        "    scheduler.step()\n",
        "    optimizer.zero_grad()\n",
        "\n",
        "  return correct_pred.double() / n_examples, np.mean(losses)\n",
        "\n"
      ],
      "execution_count": 70,
      "outputs": []
    },
    {
      "cell_type": "code",
      "metadata": {
        "id": "-6-KE2EJrAlv"
      },
      "source": [
        "def eval_model(model, data_loader, critersion, device,  n_examples):\n",
        "  model = model.eval()\n",
        "\n",
        "  losses = []\n",
        "  correct_preds= 0\n",
        "\n",
        "  with torch.no_grad():\n",
        "    for d in data_loader:\n",
        "      input_ids = d['input_ids'].to(device)\n",
        "      attention_mask = d['attention_mask'].to(device)\n",
        "      targets = d['targets'].to(device)\n",
        "\n",
        "      outputs = model(input_ids= input_ids, attention_mask= attention_mask)\n",
        "      _, preds = torch.max(outputs, dim=1)\n",
        "\n",
        "      loss = critersion(outputs, targets)\n",
        "\n",
        "      correct_preds += torch.sum(preds == targets)\n",
        "      losses.append(loss.item())\n",
        "\n",
        "  return correct_preds.double() / n_examples, np.mean(losses)\n",
        "\n"
      ],
      "execution_count": 71,
      "outputs": []
    },
    {
      "cell_type": "markdown",
      "metadata": {
        "id": "Xrr5CYcM5CUo"
      },
      "source": [
        "**training loop**"
      ]
    },
    {
      "cell_type": "code",
      "metadata": {
        "id": "ILyJdpXrrAw1",
        "outputId": "c68be05d-cca6-4137-ab85-bc7269637b8d",
        "colab": {
          "base_uri": "https://localhost:8080/",
          "height": 792
        }
      },
      "source": [
        "history = defaultdict(list)\n",
        "best_accuracy = 0\n",
        "\n",
        "for epoch in range(Epochs):\n",
        "  print('Epoch{}/{}'.format(epoch+1, Epochs))\n",
        "  print('_'*10)\n",
        "\n",
        "  train_acc, train_loss = train_epoch(model, train_data_loader, critersion, \n",
        "                                      optimizer, device, scheduler, len(df_train))\n",
        "  \n",
        "  print('Train loss {}  accuracy{}'.format(train_loss, train_acc))\n",
        "\n",
        "  val_acc, val_loss = eval_model(model, val_data_loader,\n",
        "                                 critersion, device, len(df_val))\n",
        "  \n",
        "  print('Val loss{}  accuracy{}'.format(val_loss, val_acc))\n",
        "\n",
        "  history['train_acc'].append(train_acc)\n",
        "  history['train_loss'].append(train_loss)\n",
        "  history['val_acc'].append(val_acc)\n",
        "  history['val_loss'].append(val_loss)\n",
        "\n",
        "  if val_acc > best_accuracy:\n",
        "    torch.save(model.state_dict(), 'best_model_date.bin')\n",
        "    best_acuracy = val_acc\n",
        "     \n",
        "  \n"
      ],
      "execution_count": 74,
      "outputs": [
        {
          "output_type": "stream",
          "text": [
            "Epoch1/10\n",
            "__________\n",
            "Train loss 0.6804002045777796  accuracy0.7040434690565239\n",
            "Val loss0.5495591312646866  accuracy0.7890724269377383\n",
            "Epoch2/10\n",
            "__________\n",
            "Train loss 0.3864739252964947  accuracy0.8532213675816809\n",
            "Val loss0.469461924880743  accuracy0.8500635324015248\n",
            "Epoch3/10\n",
            "__________\n",
            "Train loss 0.21994730218736197  accuracy0.9284454166960695\n",
            "Val loss0.554865629374981  accuracy0.8716645489199493\n",
            "Epoch4/10\n",
            "__________\n",
            "Train loss 0.1410365767682231  accuracy0.9589302095829512\n",
            "Val loss0.6812941502663307  accuracy0.8653113087674714\n",
            "Epoch5/10\n",
            "__________\n",
            "Train loss 0.10630951980341086  accuracy0.9707148401665373\n",
            "Val loss0.7475200300250435  accuracy0.8767471410419314\n",
            "Epoch6/10\n",
            "__________\n",
            "Train loss 0.07947162340525758  accuracy0.9764307388328276\n",
            "Val loss0.8290661678445759  accuracy0.8742058449809403\n",
            "Epoch7/10\n",
            "__________\n",
            "Train loss 0.05423143323337346  accuracy0.9834874038529391\n",
            "Val loss0.9285080216723145  accuracy0.8678526048284626\n",
            "Epoch8/10\n",
            "__________\n",
            "Train loss 0.04540195617007751  accuracy0.9860983699103804\n",
            "Val loss0.9530313636301435  accuracy0.8716645489199493\n",
            "Epoch9/10\n",
            "__________\n",
            "Train loss 0.03609689836617448  accuracy0.9868040364123916\n",
            "Val loss0.9588189387109742  accuracy0.8754764930114358\n",
            "Epoch10/10\n",
            "__________\n",
            "Train loss 0.03420847436356686  accuracy0.9887799026180227\n",
            "Val loss0.9538708404883073  accuracy0.8742058449809403\n"
          ],
          "name": "stdout"
        }
      ]
    },
    {
      "cell_type": "code",
      "metadata": {
        "id": "uVINrSqNSJyC",
        "outputId": "5ebf02c5-2b0f-46f6-ba43-41c856be5061",
        "colab": {
          "base_uri": "https://localhost:8080/",
          "height": 295
        }
      },
      "source": [
        "plt.plot(history['train_acc'], label='train accuracy')\n",
        "plt.plot(history['val_acc'], label='validation accuracy')\n",
        "plt.title('Training history')\n",
        "plt.ylabel('Accuracy')\n",
        "plt.xlabel('Epoch')\n",
        "plt.legend()\n",
        "plt.ylim([0, 1]);"
      ],
      "execution_count": 75,
      "outputs": [
        {
          "output_type": "display_data",
          "data": {
            "image/png": "[encoded data removed]",
            "text/plain": [
              "<Figure size 432x288 with 1 Axes>"
            ]
          },
          "metadata": {
            "tags": [],
            "needs_background": "light"
          }
        }
      ]
    },
    {
      "cell_type": "markdown",
      "metadata": {
        "id": "6ZZt0f_AvV82"
      },
      "source": [
        "**testing**"
      ]
    },
    {
      "cell_type": "code",
      "metadata": {
        "id": "sZbX18a3ST9I",
        "outputId": "98e0361c-42bf-406d-8a95-5d26465a28e3",
        "colab": {
          "base_uri": "https://localhost:8080/",
          "height": 36
        }
      },
      "source": [
        "test_acc, _ = eval_model(model, test_data_loader, critersion, device, len(df_test))\n",
        "print('accuracy on test data: {}'.format(test_acc.item()))\n"
      ],
      "execution_count": 80,
      "outputs": [
        {
          "output_type": "stream",
          "text": [
            "accuracy on test data: 0.883248730964467\n"
          ],
          "name": "stdout"
        }
      ]
    },
    {
      "cell_type": "markdown",
      "metadata": {
        "id": "19Xa-v4hvRzD"
      },
      "source": [
        "# getting predictions from model"
      ]
    },
    {
      "cell_type": "code",
      "metadata": {
        "id": "gT1vDsfVqz6e"
      },
      "source": [
        "# same as eval fn but also stores review texts and probabilities\n",
        "def get_predictions(model, data_loader):\n",
        "  model = model.eval()\n",
        "\n",
        "  review_texts = []\n",
        "  predictions = []\n",
        "  prediction_probs = []\n",
        "  real_values = []\n",
        "\n",
        "  with torch.no_grad():\n",
        "    for d in data_loader:\n",
        "\n",
        "      texts = d['review_text']\n",
        "      input_ids = d['input_ids'].to(device)\n",
        "      attention_mask = d['attention_mask'].to(device)\n",
        "      targets = d['targets'].to(device)\n",
        "\n",
        "      outputs = model(input_ids= input_ids, attention_mask= attention_mask)\n",
        "      _, preds = torch.max(outputs, dim=1)\n",
        "\n",
        "      review_texts.extend(texts)\n",
        "      predictions.extend(preds)\n",
        "      prediction_probs.extend(outputs)\n",
        "      real_values.extend(targets)\n",
        "\n",
        "      predictions = torch.stack(predictions).cpu()\n",
        "      prediction_probs = torch.stack(prediction_probs).cpu()\n",
        "      real_values = torch.stack(real_values).cpu()\n",
        "      return review_texts, predictions, prediction_probs, real_values"
      ],
      "execution_count": 87,
      "outputs": []
    },
    {
      "cell_type": "code",
      "metadata": {
        "id": "US_K9nLgqz34",
        "outputId": "c995e7a5-ae5b-422e-9f96-00dccbc4cb61",
        "colab": {
          "base_uri": "https://localhost:8080/",
          "height": 211
        }
      },
      "source": [
        "y_review_texts, y_pred, y_pred_probs, y_test = get_predictions(model, test_data_loader)\n",
        "\n",
        "print(classification_report(y_test, y_pred, target_names= class_names))\n"
      ],
      "execution_count": 101,
      "outputs": [
        {
          "output_type": "stream",
          "text": [
            "              precision    recall  f1-score   support\n",
            "\n",
            "    negative       0.33      1.00      0.50         1\n",
            "     neutral       1.00      0.80      0.89        10\n",
            "    positive       1.00      1.00      1.00         5\n",
            "\n",
            "    accuracy                           0.88        16\n",
            "   macro avg       0.78      0.93      0.80        16\n",
            "weighted avg       0.96      0.88      0.90        16\n",
            "\n"
          ],
          "name": "stdout"
        }
      ]
    },
    {
      "cell_type": "code",
      "metadata": {
        "id": "hxy72Jm1v4k9",
        "outputId": "9bfcd875-1af7-485c-d47a-9dc27e81c9ea",
        "colab": {
          "base_uri": "https://localhost:8080/",
          "height": 304
        }
      },
      "source": [
        "def show_confusion_matrix(confusion_matrix):\n",
        "  hmap = sns.heatmap(confusion_matrix, annot=True, fmt=\"d\", cmap=\"Blues\")\n",
        "  hmap.yaxis.set_ticklabels(hmap.yaxis.get_ticklabels(), rotation=0, ha='right')\n",
        "  hmap.xaxis.set_ticklabels(hmap.xaxis.get_ticklabels(), rotation=30, ha='right')\n",
        "  plt.ylabel('True sentiment')\n",
        "  plt.xlabel('Predicted sentiment');\n",
        "\n",
        "cm = confusion_matrix(y_test, y_pred)\n",
        "df_cm = pd.DataFrame(cm, index=class_names, columns=class_names)\n",
        "show_confusion_matrix(df_cm)\n",
        "  "
      ],
      "execution_count": 102,
      "outputs": [
        {
          "output_type": "display_data",
          "data": {
            "image/png": "[encoded data removed]",
            "text/plain": [
              "<Figure size 432x288 with 2 Axes>"
            ]
          },
          "metadata": {
            "tags": [],
            "needs_background": "light"
          }
        }
      ]
    },
    {
      "cell_type": "code",
      "metadata": {
        "id": "9amBdZ579CAc",
        "outputId": "137ab1a0-1afd-4859-e49c-e93e1016968d",
        "colab": {
          "base_uri": "https://localhost:8080/",
          "height": 191
        }
      },
      "source": [
        "#looking at example\n",
        "idx = 3\n",
        "\n",
        "review_text = y_review_texts[idx]\n",
        "true_sentiment = y_test[idx]\n",
        "pred_df = pd.DataFrame({\n",
        "  'class_names': class_names,\n",
        "  'values': y_pred_probs[idx]})\n",
        "\n",
        "print(\"\\n\".join(wrap(review_text)))\n",
        "print()\n",
        "print(f'Sentiment: {class_names[true_sentiment]}')"
      ],
      "execution_count": 114,
      "outputs": [
        {
          "output_type": "stream",
          "text": [
            "I love this app. I tried many to do list apps but this is the one that\n",
            "meets my satisfaction, I guess? The basic features are good, just\n",
            "right. But I'll give it 4 stars since I'm still finding something I\n",
            "myself can't say and it's not here. Maybe it's in the premium version\n",
            "but I'm broke as hell and I can't afford to pay for it because I have\n",
            "other expenses. I do hope that some other features would someday be\n",
            "free, it'll be really helpful.\n",
            "\n",
            "Sentiment: positive\n"
          ],
          "name": "stdout"
        }
      ]
    },
    {
      "cell_type": "code",
      "metadata": {
        "id": "2wYY1ccx9MDh",
        "outputId": "53a4c960-67c9-4631-989f-c470b3e2f30a",
        "colab": {
          "base_uri": "https://localhost:8080/",
          "height": 279
        }
      },
      "source": [
        "#confidence of sentiment\n",
        "\n",
        "sns.barplot(x='values', y='class_names', data=pred_df, orient='h')\n",
        "plt.ylabel('sentiment')\n",
        "plt.xlabel('probability')\n",
        "plt.xlim([0, 1]);"
      ],
      "execution_count": 115,
      "outputs": [
        {
          "output_type": "display_data",
          "data": {
            "image/png": "[encoded data removed]",
            "text/plain": [
              "<Figure size 432x288 with 1 Axes>"
            ]
          },
          "metadata": {
            "tags": [],
            "needs_background": "light"
          }
        }
      ]
    },
    {
      "cell_type": "code",
      "metadata": {
        "id": "RAxmgkIP9U1c",
        "outputId": "01aa034d-d5ec-40ad-a289-e3bcc190ad79",
        "colab": {
          "base_uri": "https://localhost:8080/",
          "height": 75
        }
      },
      "source": [
        "#predicting on raw text\n",
        "\n",
        "review_text = 'App is total waste of time.It doesnt  work'\n",
        "\n",
        "encoded_review = tokenizer.encode_plus(\n",
        "                          review_text,\n",
        "                          max_length= max_len,\n",
        "                          add_special_tokens= True,\n",
        "                          return_token_type_id= False,\n",
        "                          pad_to_max_length= True,\n",
        "                          return_attention_mask= True,\n",
        "                          return_tensors= 'pt')\n",
        "\n",
        "input_ids = encoded_review['input_ids'].to(device)\n",
        "attention_mask = encoded_review['attention_mask'].to(device)\n",
        "\n",
        "output = model(input_ids, attention_mask)\n",
        "_, prediction = torch.max(output, dim=1)\n",
        "\n",
        "print('Review text: {}'.format(review_text))\n",
        "print('Sentiment: {}'.format(class_names[prediction]))\n"
      ],
      "execution_count": 113,
      "outputs": [
        {
          "output_type": "stream",
          "text": [
            "Keyword arguments {'return_token_type_id': False} not recognized.\n"
          ],
          "name": "stderr"
        },
        {
          "output_type": "stream",
          "text": [
            "Review text: App is total waste of time.It doesnt  work\n",
            "Sentiment: negative\n"
          ],
          "name": "stdout"
        }
      ]
    }
  ]
}